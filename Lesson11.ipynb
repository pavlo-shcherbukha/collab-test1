{
  "nbformat": 4,
  "nbformat_minor": 0,
  "metadata": {
    "colab": {
      "provenance": [],
      "authorship_tag": "ABX9TyMF+FvE4Afn0pra4kE1ydRh",
      "include_colab_link": true
    },
    "kernelspec": {
      "name": "python3",
      "display_name": "Python 3"
    },
    "language_info": {
      "name": "python"
    }
  },
  "cells": [
    {
      "cell_type": "markdown",
      "metadata": {
        "id": "view-in-github",
        "colab_type": "text"
      },
      "source": [
        "<a href=\"https://colab.research.google.com/github/pavlo-shcherbukha/collab-test1/blob/main/Lesson11.ipynb\" target=\"_parent\"><img src=\"https://colab.research.google.com/assets/colab-badge.svg\" alt=\"Open In Colab\"/></a>"
      ]
    },
    {
      "cell_type": "markdown",
      "source": [
        "# Lesson 11 Leap or NonLeap yeae"
      ],
      "metadata": {
        "id": "gRZLI23DJ6Oh"
      }
    },
    {
      "cell_type": "markdown",
      "source": [
        "## Solution from Replit"
      ],
      "metadata": {
        "id": "LJkiyNjoKF-c"
      }
    },
    {
      "cell_type": "code",
      "source": [
        "# L11\n",
        "\n",
        "days_this_year = int(input(\"How many days are in this year?\"))\n",
        "\n",
        "days_in_year = 365\n",
        "days_in_leapyear = 366\n",
        "hours_in_day = 24\n",
        "minutes_in_hour = 60\n",
        "seconds_in_minute = 60\n",
        "\n",
        "\n",
        "result = days_in_year * hours_in_day * minutes_in_hour * seconds_in_minute\n",
        "\n",
        "leapyear_result = days_in_leapyear * hours_in_day * minutes_in_hour * seconds_in_minute\n",
        "\n",
        "\n",
        "if days_this_year == 366:\n",
        "  print(\"Number of seconds in a leap year are\", leapyear_result)\n",
        "else:\n",
        "  print(\"Number of seconds in a year are\", result)"
      ],
      "metadata": {
        "colab": {
          "base_uri": "https://localhost:8080/"
        },
        "id": "4U59ja0oKKUH",
        "outputId": "e0b8f97a-eb1e-4df4-e9f8-9a90eab74f80"
      },
      "execution_count": null,
      "outputs": [
        {
          "output_type": "stream",
          "name": "stdout",
          "text": [
            "How many days are in this year?365\n",
            "Number of seconds in a year are 31536000\n"
          ]
        }
      ]
    },
    {
      "cell_type": "markdown",
      "source": [
        "## Myown Solution"
      ],
      "metadata": {
        "id": "olsmEEjVKawv"
      }
    },
    {
      "cell_type": "markdown",
      "source": [
        "# Description from Microsoft\n",
        "\n",
        "## Summary\n",
        "\n",
        "This article describes how to determine whether the year in a date that is used in a Microsoft Excel document is a leap year.\n",
        "More Information\n",
        "\n",
        "The date system that is used by Excel is based on the Gregorian calendar, first established in 1582 by Pope Gregory XIII. This calendar was designed to correct the errors introduced by the less accurate Julian calendar.\n",
        "\n",
        "In the Gregorian calendar, a normal year consists of 365 days. Because the actual length of a sidereal year (the time required for the Earth to revolve once about the Sun) is actually 365.2425 days, a \"leap year\" of 366 days is used once every four years to eliminate the error caused by three normal (but short) years. Any year that is evenly divisible by 4 is a leap year: for example, 1988, 1992, and 1996 are leap years.\n",
        "\n",
        "However, there is still a small error that must be accounted for. To eliminate this error, the Gregorian calendar stipulates that a year that is evenly divisible by 100 (for example, 1900) is a leap year only if it is also evenly divisible by 400.\n",
        "\n",
        "## For this reason, the following years are not leap years:\n",
        "\n",
        "1700, 1800, 1900, 2100, 2200, 2300, 2500, 2600\n",
        "\n",
        "This is because they are evenly divisible by 100 but not by 400.\n",
        "\n",
        "The following years are leap years: 1600, 2000, 2400\n",
        "\n",
        "This is because they are evenly divisible by both 100 and 400.\n",
        "\n",
        "Because versions of Microsoft Excel earlier than Excel 97 handle only years from 1900 to 2078, only the year 1900 is subject to the 100/400 exclusion rule of leap years in Microsoft Excel. However, in order to be compatible with other programs, Microsoft Excel treats the year 1900 as a leap year.\n",
        "How to determine whether a year is a leap year\n",
        "\n",
        "## To determine whether a year is a leap year, follow these steps:\n",
        "\n",
        "    1. If the year is evenly divisible by 4, go to step 2. Otherwise, go to step 5.\n",
        "    2. If the year is evenly divisible by 100, go to step 3. Otherwise, go to step 4.\n",
        "    3. If the year is evenly divisible by 400, go to step 4. Otherwise, go to step 5.\n",
        "    4. The year is a leap year (it has 366 days).\n",
        "    5. The year is not a leap year (it has 365 days).\n",
        "\n",
        "## Formula to determine whether a year is a leap year\n",
        "\n",
        "Use the following formula to determine whether the year number that is entered into a cell (in this example, cell A1) is a leap year:\n",
        "\n",
        "```excell\n",
        "=IF(OR(MOD(A1,400)=0,AND(MOD(A1,4)=0,MOD(A1,100)<>0)),\"Leap Year\", \"NOT a Leap Year\")\n",
        "```\n"
      ],
      "metadata": {
        "id": "aAOVXQZnKgBe"
      }
    },
    {
      "cell_type": "code",
      "source": [
        "year = int(input(\"Year number? \"))\n",
        "print(\"You are entered\", year, \" year!\")\n",
        "\n",
        "days_in_year = 365\n",
        "days_in_leapyear = 366\n",
        "hours_in_day = 24\n",
        "minutes_in_hour = 60\n",
        "seconds_in_minute = 60\n",
        "\n",
        "# days contains the number of days in a year when calculated. default is 0\n",
        "days=0\n",
        "\n",
        "# this is a sign continue calculation or not. default is true (continue)\n",
        "continueCalc=True\n",
        "\n",
        "# this is a sign leap year or not. Default is not leap year\n",
        "leapYear=False\n",
        "\n",
        "# define leap year or not\n",
        "if year % 4 == 0:\n",
        "  # continue calcualtion\n",
        "  continueCalc=True\n",
        "else:\n",
        "  # Non leap year!!!!\n",
        "  continueCalc=False\n",
        "  leapYear=False\n",
        "\n",
        "\n",
        "if continueCalc:\n",
        "  if year % 100 == 0:\n",
        "    # continue calculation\n",
        "    continueCalc=True\n",
        "  else:\n",
        "    # A leap year!!!!\n",
        "    continueCalc=False\n",
        "    leapYear=True\n",
        "\n",
        "if continueCalc:\n",
        "  if year % 400 == 0:\n",
        "    # A leap year\n",
        "    continueCalc=False\n",
        "    leapYear=True\n",
        "  else:\n",
        "    #Non leap year!!!!\n",
        "    continueCalc=False\n",
        "    leapYear=False\n",
        "\n",
        "days = days_in_year\n",
        "if leapYear:\n",
        "  days = days_in_leapyear\n",
        "\n",
        "result = days * hours_in_day * minutes_in_hour * seconds_in_minute\n",
        "\n",
        "if leapYear:\n",
        "  print(\"The year\", year, \" Number of days:\", days,\" Number of seconds in a leap year are:\", result)\n",
        "else:\n",
        "  print(\"The year\", year,\" Number of days:\", days, \" Number of seconds in a year are:\", result)\n"
      ],
      "metadata": {
        "colab": {
          "base_uri": "https://localhost:8080/"
        },
        "id": "VlpreTbsLLLM",
        "outputId": "fab0d8db-0934-4bb5-d627-d9f7fffc5b4b"
      },
      "execution_count": 9,
      "outputs": [
        {
          "output_type": "stream",
          "name": "stdout",
          "text": [
            "Year number? 1700\n",
            "You are entered 1700  year!\n",
            "The year 1700  Number of days: 365  Number of seconds in a year are: 31536000\n"
          ]
        }
      ]
    }
  ]
}